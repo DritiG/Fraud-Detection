{
 "cells": [
  {
   "cell_type": "code",
   "execution_count": 30,
   "id": "3bd0415b-8202-44c0-b64d-38c6ea471fa7",
   "metadata": {},
   "outputs": [],
   "source": [
    "#Importing neccessary libraries\n",
    "import numpy as np\n",
    "import pandas as pd\n",
    "import matplotlib.pyplot as plt"
   ]
  },
  {
   "cell_type": "code",
   "execution_count": 2,
   "id": "2b2b8967-3ce8-4b27-9188-99137a76c1c2",
   "metadata": {},
   "outputs": [
    {
     "name": "stdout",
     "output_type": "stream",
     "text": [
      "Rows, Columns: (6362620, 11)\n"
     ]
    }
   ],
   "source": [
    "# Loading the dataset\n",
    "df = pd.read_csv(r\"C:\\Users\\DritiG\\OneDrive\\Desktop\\Accredian\\Fraud.csv\")\n",
    "# Shape of the dataset i.e rows and columns of the dataset used for analysis.\n",
    "print(\"Rows, Columns:\", df.shape)"
   ]
  },
  {
   "cell_type": "code",
   "execution_count": 4,
   "id": "84f37005-cfc0-4205-9e5f-d83d6b97c4b1",
   "metadata": {},
   "outputs": [
    {
     "name": "stdout",
     "output_type": "stream",
     "text": [
      "   step      type    amount     nameOrig  oldbalanceOrg  newbalanceOrig  \\\n",
      "0     1   PAYMENT   9839.64  C1231006815       170136.0       160296.36   \n",
      "1     1   PAYMENT   1864.28  C1666544295        21249.0        19384.72   \n",
      "2     1  TRANSFER    181.00  C1305486145          181.0            0.00   \n",
      "3     1  CASH_OUT    181.00   C840083671          181.0            0.00   \n",
      "4     1   PAYMENT  11668.14  C2048537720        41554.0        29885.86   \n",
      "\n",
      "      nameDest  oldbalanceDest  newbalanceDest  isFraud  isFlaggedFraud  \n",
      "0  M1979787155             0.0             0.0        0               0  \n",
      "1  M2044282225             0.0             0.0        0               0  \n",
      "2   C553264065             0.0             0.0        1               0  \n",
      "3    C38997010         21182.0             0.0        1               0  \n",
      "4  M1230701703             0.0             0.0        0               0  \n"
     ]
    }
   ],
   "source": [
    "# Peek at the first 5 rows by default unless you mention the count of rows inside the () \n",
    "print(df.head())"
   ]
  },
  {
   "cell_type": "code",
   "execution_count": 5,
   "id": "6ca75b7d-d0a8-453a-b6bb-9d7a27323f5b",
   "metadata": {},
   "outputs": [
    {
     "name": "stdout",
     "output_type": "stream",
     "text": [
      "<class 'pandas.core.frame.DataFrame'>\n",
      "RangeIndex: 6362620 entries, 0 to 6362619\n",
      "Data columns (total 11 columns):\n",
      " #   Column          Dtype  \n",
      "---  ------          -----  \n",
      " 0   step            int64  \n",
      " 1   type            object \n",
      " 2   amount          float64\n",
      " 3   nameOrig        object \n",
      " 4   oldbalanceOrg   float64\n",
      " 5   newbalanceOrig  float64\n",
      " 6   nameDest        object \n",
      " 7   oldbalanceDest  float64\n",
      " 8   newbalanceDest  float64\n",
      " 9   isFraud         int64  \n",
      " 10  isFlaggedFraud  int64  \n",
      "dtypes: float64(5), int64(3), object(3)\n",
      "memory usage: 534.0+ MB\n",
      "None\n"
     ]
    }
   ],
   "source": [
    "# gives you Info about datatypes and nulls\n",
    "print(df.info())"
   ]
  },
  {
   "cell_type": "code",
   "execution_count": 7,
   "id": "8e5fa7ff-b7b5-416a-b957-dfd60e0c2b93",
   "metadata": {},
   "outputs": [
    {
     "data": {
      "text/html": [
       "<div>\n",
       "<style scoped>\n",
       "    .dataframe tbody tr th:only-of-type {\n",
       "        vertical-align: middle;\n",
       "    }\n",
       "\n",
       "    .dataframe tbody tr th {\n",
       "        vertical-align: top;\n",
       "    }\n",
       "\n",
       "    .dataframe thead th {\n",
       "        text-align: right;\n",
       "    }\n",
       "</style>\n",
       "<table border=\"1\" class=\"dataframe\">\n",
       "  <thead>\n",
       "    <tr style=\"text-align: right;\">\n",
       "      <th></th>\n",
       "      <th>step</th>\n",
       "      <th>amount</th>\n",
       "      <th>oldbalanceOrg</th>\n",
       "      <th>newbalanceOrig</th>\n",
       "      <th>oldbalanceDest</th>\n",
       "      <th>newbalanceDest</th>\n",
       "      <th>isFraud</th>\n",
       "      <th>isFlaggedFraud</th>\n",
       "    </tr>\n",
       "  </thead>\n",
       "  <tbody>\n",
       "    <tr>\n",
       "      <th>count</th>\n",
       "      <td>6.362620e+06</td>\n",
       "      <td>6.362620e+06</td>\n",
       "      <td>6.362620e+06</td>\n",
       "      <td>6.362620e+06</td>\n",
       "      <td>6.362620e+06</td>\n",
       "      <td>6.362620e+06</td>\n",
       "      <td>6.362620e+06</td>\n",
       "      <td>6.362620e+06</td>\n",
       "    </tr>\n",
       "    <tr>\n",
       "      <th>mean</th>\n",
       "      <td>2.433972e+02</td>\n",
       "      <td>1.798619e+05</td>\n",
       "      <td>8.338831e+05</td>\n",
       "      <td>8.551137e+05</td>\n",
       "      <td>1.100702e+06</td>\n",
       "      <td>1.224996e+06</td>\n",
       "      <td>1.290820e-03</td>\n",
       "      <td>2.514687e-06</td>\n",
       "    </tr>\n",
       "    <tr>\n",
       "      <th>std</th>\n",
       "      <td>1.423320e+02</td>\n",
       "      <td>6.038582e+05</td>\n",
       "      <td>2.888243e+06</td>\n",
       "      <td>2.924049e+06</td>\n",
       "      <td>3.399180e+06</td>\n",
       "      <td>3.674129e+06</td>\n",
       "      <td>3.590480e-02</td>\n",
       "      <td>1.585775e-03</td>\n",
       "    </tr>\n",
       "    <tr>\n",
       "      <th>min</th>\n",
       "      <td>1.000000e+00</td>\n",
       "      <td>0.000000e+00</td>\n",
       "      <td>0.000000e+00</td>\n",
       "      <td>0.000000e+00</td>\n",
       "      <td>0.000000e+00</td>\n",
       "      <td>0.000000e+00</td>\n",
       "      <td>0.000000e+00</td>\n",
       "      <td>0.000000e+00</td>\n",
       "    </tr>\n",
       "    <tr>\n",
       "      <th>25%</th>\n",
       "      <td>1.560000e+02</td>\n",
       "      <td>1.338957e+04</td>\n",
       "      <td>0.000000e+00</td>\n",
       "      <td>0.000000e+00</td>\n",
       "      <td>0.000000e+00</td>\n",
       "      <td>0.000000e+00</td>\n",
       "      <td>0.000000e+00</td>\n",
       "      <td>0.000000e+00</td>\n",
       "    </tr>\n",
       "    <tr>\n",
       "      <th>50%</th>\n",
       "      <td>2.390000e+02</td>\n",
       "      <td>7.487194e+04</td>\n",
       "      <td>1.420800e+04</td>\n",
       "      <td>0.000000e+00</td>\n",
       "      <td>1.327057e+05</td>\n",
       "      <td>2.146614e+05</td>\n",
       "      <td>0.000000e+00</td>\n",
       "      <td>0.000000e+00</td>\n",
       "    </tr>\n",
       "    <tr>\n",
       "      <th>75%</th>\n",
       "      <td>3.350000e+02</td>\n",
       "      <td>2.087215e+05</td>\n",
       "      <td>1.073152e+05</td>\n",
       "      <td>1.442584e+05</td>\n",
       "      <td>9.430367e+05</td>\n",
       "      <td>1.111909e+06</td>\n",
       "      <td>0.000000e+00</td>\n",
       "      <td>0.000000e+00</td>\n",
       "    </tr>\n",
       "    <tr>\n",
       "      <th>max</th>\n",
       "      <td>7.430000e+02</td>\n",
       "      <td>9.244552e+07</td>\n",
       "      <td>5.958504e+07</td>\n",
       "      <td>4.958504e+07</td>\n",
       "      <td>3.560159e+08</td>\n",
       "      <td>3.561793e+08</td>\n",
       "      <td>1.000000e+00</td>\n",
       "      <td>1.000000e+00</td>\n",
       "    </tr>\n",
       "  </tbody>\n",
       "</table>\n",
       "</div>"
      ],
      "text/plain": [
       "               step        amount  oldbalanceOrg  newbalanceOrig  \\\n",
       "count  6.362620e+06  6.362620e+06   6.362620e+06    6.362620e+06   \n",
       "mean   2.433972e+02  1.798619e+05   8.338831e+05    8.551137e+05   \n",
       "std    1.423320e+02  6.038582e+05   2.888243e+06    2.924049e+06   \n",
       "min    1.000000e+00  0.000000e+00   0.000000e+00    0.000000e+00   \n",
       "25%    1.560000e+02  1.338957e+04   0.000000e+00    0.000000e+00   \n",
       "50%    2.390000e+02  7.487194e+04   1.420800e+04    0.000000e+00   \n",
       "75%    3.350000e+02  2.087215e+05   1.073152e+05    1.442584e+05   \n",
       "max    7.430000e+02  9.244552e+07   5.958504e+07    4.958504e+07   \n",
       "\n",
       "       oldbalanceDest  newbalanceDest       isFraud  isFlaggedFraud  \n",
       "count    6.362620e+06    6.362620e+06  6.362620e+06    6.362620e+06  \n",
       "mean     1.100702e+06    1.224996e+06  1.290820e-03    2.514687e-06  \n",
       "std      3.399180e+06    3.674129e+06  3.590480e-02    1.585775e-03  \n",
       "min      0.000000e+00    0.000000e+00  0.000000e+00    0.000000e+00  \n",
       "25%      0.000000e+00    0.000000e+00  0.000000e+00    0.000000e+00  \n",
       "50%      1.327057e+05    2.146614e+05  0.000000e+00    0.000000e+00  \n",
       "75%      9.430367e+05    1.111909e+06  0.000000e+00    0.000000e+00  \n",
       "max      3.560159e+08    3.561793e+08  1.000000e+00    1.000000e+00  "
      ]
     },
     "execution_count": 7,
     "metadata": {},
     "output_type": "execute_result"
    }
   ],
   "source": [
    "# Basic statistics-all metrics get calculated in one function itself\n",
    "df.describe()"
   ]
  },
  {
   "cell_type": "code",
   "execution_count": 8,
   "id": "a27d7dc3-2914-4203-abb0-eda86e1e447f",
   "metadata": {},
   "outputs": [
    {
     "name": "stdout",
     "output_type": "stream",
     "text": [
      "Missing values per column:\n"
     ]
    },
    {
     "data": {
      "text/plain": [
       "step              0\n",
       "type              0\n",
       "amount            0\n",
       "nameOrig          0\n",
       "oldbalanceOrg     0\n",
       "newbalanceOrig    0\n",
       "nameDest          0\n",
       "oldbalanceDest    0\n",
       "newbalanceDest    0\n",
       "isFraud           0\n",
       "isFlaggedFraud    0\n",
       "dtype: int64"
      ]
     },
     "execution_count": 8,
     "metadata": {},
     "output_type": "execute_result"
    }
   ],
   "source": [
    "# Check missing values\n",
    "print(\"Missing values per column:\")\n",
    "df.isnull().sum()"
   ]
  },
  {
   "cell_type": "code",
   "execution_count": 9,
   "id": "db020089-9a83-4a97-86ff-8e3789182851",
   "metadata": {},
   "outputs": [
    {
     "name": "stdout",
     "output_type": "stream",
     "text": [
      "\n",
      "Fraud distribution:\n",
      "isFraud\n",
      "0    0.998709\n",
      "1    0.001291\n",
      "Name: proportion, dtype: float64\n"
     ]
    }
   ],
   "source": [
    "# Distribution of target variable (isFraud)\n",
    "print(\"\\nFraud distribution:\")\n",
    "print(df['isFraud'].value_counts(normalize=True))"
   ]
  },
  {
   "cell_type": "code",
   "execution_count": 10,
   "id": "d7391693-3b17-4ce0-9d00-9edd6e04f391",
   "metadata": {},
   "outputs": [
    {
     "name": "stdout",
     "output_type": "stream",
     "text": [
      "\n",
      "Flagged fraud distribution:\n",
      "isFlaggedFraud\n",
      "0    0.999997\n",
      "1    0.000003\n",
      "Name: proportion, dtype: float64\n"
     ]
    }
   ],
   "source": [
    "# Distribution of flagged frauds\n",
    "print(\"\\nFlagged fraud distribution:\")\n",
    "print(df['isFlaggedFraud'].value_counts(normalize=True))"
   ]
  },
  {
   "cell_type": "code",
   "execution_count": 15,
   "id": "de73cbc6-7a43-43b7-a76f-3dd42d8c78f5",
   "metadata": {},
   "outputs": [
    {
     "name": "stdout",
     "output_type": "stream",
     "text": [
      "Fraud counts:\n",
      " isFraud\n",
      "0    6354407\n",
      "1       8213\n",
      "Name: count, dtype: int64\n",
      "\n",
      "Fraud ratio:\n",
      " isFraud\n",
      "0    0.998709\n",
      "1    0.001291\n",
      "Name: proportion, dtype: float64\n"
     ]
    },
    {
     "data": {
      "image/png": "[encoded data removed]",
      "text/plain": [
       "<Figure size 640x480 with 1 Axes>"
      ]
     },
     "metadata": {},
     "output_type": "display_data"
    }
   ],
   "source": [
    "#Fraud Vs Non-fraud Transactions visualization\n",
    "fraud_counts = df['isFraud'].value_counts()\n",
    "fraud_ratio = df['isFraud'].value_counts(normalize=True)\n",
    "print(\"Fraud counts:\\n\", fraud_counts)\n",
    "print(\"\\nFraud ratio:\\n\", fraud_ratio)\n",
    "\n",
    "# Simple bar plot\n",
    "fraud_counts.plot(kind='bar',color='green')\n",
    "plt.title(\"Fraud vs Non-Fraud Transactions\")\n",
    "plt.xlabel(\"isFraud\")\n",
    "plt.ylabel(\"Count\")\n",
    "plt.show()"
   ]
  },
  {
   "cell_type": "code",
   "execution_count": 17,
   "id": "9b269ae0-479e-497e-9dfd-d719fcc143de",
   "metadata": {},
   "outputs": [
    {
     "name": "stdout",
     "output_type": "stream",
     "text": [
      "   step    amount  oldbalanceOrg  newbalanceOrig  oldbalanceDest  \\\n",
      "0     1   9839.64       170136.0       160296.36             0.0   \n",
      "1     1   1864.28        21249.0        19384.72             0.0   \n",
      "2     1    181.00          181.0            0.00             0.0   \n",
      "3     1    181.00          181.0            0.00         21182.0   \n",
      "4     1  11668.14        41554.0        29885.86             0.0   \n",
      "\n",
      "   newbalanceDest  isFraud  isFlaggedFraud  type_CASH_OUT  type_DEBIT  \\\n",
      "0             0.0        0               0          False       False   \n",
      "1             0.0        0               0          False       False   \n",
      "2             0.0        1               0          False       False   \n",
      "3             0.0        1               0           True       False   \n",
      "4             0.0        0               0          False       False   \n",
      "\n",
      "   type_PAYMENT  type_TRANSFER  deltaOrig  deltaDest  \n",
      "0          True          False    9839.64        0.0  \n",
      "1          True          False    1864.28        0.0  \n",
      "2         False           True     181.00        0.0  \n",
      "3         False          False     181.00   -21182.0  \n",
      "4          True          False   11668.14        0.0  \n",
      "New shape: (6362620, 14)\n"
     ]
    }
   ],
   "source": [
    "# Feature Engineering process\n",
    "# Dropping IDs\n",
    "df_clean = df.drop(['nameOrig', 'nameDest'], axis=1)\n",
    "# One-hot encode transaction type\n",
    "#using get_dummies() to convert categorical values into binary values\n",
    "df_clean = pd.get_dummies(df_clean, columns=['type'], drop_first=True)\n",
    "\n",
    "# Create new balance delta features\n",
    "#delta states the difference between the new and old balances showing the money movement\n",
    "df_clean['deltaOrig'] = df_clean['oldbalanceOrg'] - df_clean['newbalanceOrig']\n",
    "df_clean['deltaDest'] = df_clean['newbalanceDest'] - df_clean['oldbalanceDest']\n",
    "\n",
    "print(df_clean.head())\n",
    "print(\"New shape:\", df_clean.shape)"
   ]
  },
  {
   "cell_type": "code",
   "execution_count": 21,
   "id": "7cfeabd8-4fe7-4ce4-8405-6ad6752dba09",
   "metadata": {},
   "outputs": [
    {
     "name": "stdout",
     "output_type": "stream",
     "text": [
      "Training shape: (700000, 13) (700000,)\n"
     ]
    }
   ],
   "source": [
    "#Train-Test Split\n",
    "# using sklearn library \n",
    "#sklearn.model_selection is the module whereas the train_test_split is the function\n",
    "from sklearn.model_selection import train_test_split\n",
    "\n",
    "# Features and target variables\n",
    "X = df_clean.drop('isFraud', axis=1)\n",
    "y = df_clean['isFraud']\n",
    "\n",
    "# For speed, take a 1 million row sample (stratified to keep fraud ratio)\n",
    "X_sample, _, y_sample, _ = train_test_split(X, y, train_size=1000000, \n",
    "                                            stratify=y, random_state=42)\n",
    "#random state is used for the reproductibility of the data by default the values is always 42.\n",
    "# Split the data into train/test split\n",
    "X_train, X_test, y_train, y_test = train_test_split(X_sample, y_sample, \n",
    "                                                    test_size=0.3, \n",
    "                                                    stratify=y_sample, \n",
    "                                                    random_state=42)\n",
    "\n",
    "print(\"Training shape:\", X_train.shape, y_train.shape)"
   ]
  },
  {
   "cell_type": "code",
   "execution_count": 19,
   "id": "7d67cf37-10cd-42a0-95a2-2c14560f8744",
   "metadata": {},
   "outputs": [
    {
     "name": "stdout",
     "output_type": "stream",
     "text": [
      "Testing shape: (300000, 13) (300000,)\n"
     ]
    }
   ],
   "source": [
    "print(\"Testing shape:\", X_test.shape, y_test.shape)"
   ]
  },
  {
   "cell_type": "code",
   "execution_count": 20,
   "id": "5a7dbf0a-fd2e-49f0-a4d8-1e5a1dd8442d",
   "metadata": {},
   "outputs": [
    {
     "name": "stdout",
     "output_type": "stream",
     "text": [
      "Fraud ratio in sample: 0.001291\n"
     ]
    }
   ],
   "source": [
    "print(\"Fraud ratio in sample:\", y_sample.mean())"
   ]
  },
  {
   "cell_type": "code",
   "execution_count": 27,
   "id": "aa459b3d-146a-4835-8937-adc4b652e747",
   "metadata": {},
   "outputs": [
    {
     "name": "stdout",
     "output_type": "stream",
     "text": [
      "Confusion Matrix:\n",
      " [[286014  13599]\n",
      " [    31    356]]\n",
      "\n",
      "Classification Report:\n",
      "               precision    recall  f1-score   support\n",
      "\n",
      "           0     0.9999    0.9546    0.9767    299613\n",
      "           1     0.0255    0.9199    0.0496       387\n",
      "\n",
      "    accuracy                         0.9546    300000\n",
      "   macro avg     0.5127    0.9373    0.5132    300000\n",
      "weighted avg     0.9986    0.9546    0.9755    300000\n",
      "\n",
      "ROC-AUC Score: 0.9821205962064881\n"
     ]
    }
   ],
   "source": [
    "# Using the Logistic Regression Algorithm for model building\n",
    "#linear_model and metrics are the modules \n",
    "#logisticregression, classification_report, confusion_matrix, roc_auc_score are the functions.\n",
    "from sklearn.linear_model import LogisticRegression\n",
    "from sklearn.metrics import classification_report, confusion_matrix, roc_auc_score\n",
    "\n",
    "# Training model\n",
    "log_reg = LogisticRegression(max_iter=1000, class_weight='balanced', solver='liblinear')\n",
    "log_reg.fit(X_train, y_train)\n",
    "\n",
    "# generating the Predictions\n",
    "y_pred = log_reg.predict(X_test)\n",
    "y_proba = log_reg.predict_proba(X_test)[:,1]\n",
    "\n",
    "# Evaluation metrics\n",
    "print(\"Confusion Matrix:\\n\", confusion_matrix(y_test, y_pred))\n",
    "print(\"\\nClassification Report:\\n\", classification_report(y_test, y_pred, digits=4))\n",
    "print(\"ROC-AUC Score:\", roc_auc_score(y_test, y_proba))"
   ]
  },
  {
   "cell_type": "code",
   "execution_count": 28,
   "id": "21312526-6d6c-48a4-96b1-766b196b0efe",
   "metadata": {},
   "outputs": [],
   "source": [
    "#even though the logistic regression did well let's try a tree based model like random forest\n",
    "#random forest is typically used for capturing the nonlinear patterns whichh logistic regression might miss\n",
    "from sklearn.ensemble import RandomForestClassifier\n",
    "\n",
    "rf = RandomForestClassifier(\n",
    "    n_estimators=100,\n",
    "    class_weight='balanced',\n",
    "    random_state=42,\n",
    "    n_jobs=-1\n",
    ")\n",
    "\n",
    "rf.fit(X_train, y_train)\n",
    "\n",
    "# Predictions\n",
    "y_pred_rf = rf.predict(X_test)\n",
    "y_proba_rf = rf.predict_proba(X_test)[:,1]\n"
   ]
  },
  {
   "cell_type": "code",
   "execution_count": 29,
   "id": "3b5dc114-affd-4691-80a4-176ec6910eb4",
   "metadata": {},
   "outputs": [
    {
     "name": "stdout",
     "output_type": "stream",
     "text": [
      "Confusion Matrix:\n",
      " [[299607      6]\n",
      " [    99    288]]\n",
      "\n",
      "Classification Report:\n",
      "               precision    recall  f1-score   support\n",
      "\n",
      "           0     0.9997    1.0000    0.9998    299613\n",
      "           1     0.9796    0.7442    0.8458       387\n",
      "\n",
      "    accuracy                         0.9997    300000\n",
      "   macro avg     0.9896    0.8721    0.9228    300000\n",
      "weighted avg     0.9996    0.9997    0.9996    300000\n",
      "\n",
      "ROC-AUC Score: 0.9854996278532642\n"
     ]
    }
   ],
   "source": [
    "# Evaluation\n",
    "print(\"Confusion Matrix:\\n\", confusion_matrix(y_test, y_pred_rf))\n",
    "print(\"\\nClassification Report:\\n\", classification_report(y_test, y_pred_rf, digits=4))\n",
    "print(\"ROC-AUC Score:\", roc_auc_score(y_test, y_proba_rf))"
   ]
  },
  {
   "cell_type": "markdown",
   "id": "618719cc-bf8e-4bce-8515-563afbde2589",
   "metadata": {},
   "source": [
    "### Business Questions & Insights"
   ]
  },
  {
   "cell_type": "raw",
   "id": "e8c2291d-8795-460c-9385-83b648dd695a",
   "metadata": {},
   "source": [
    "1. Data cleaning (missing, outliers, multicollinearity):\n",
    "No missing values are found in the data set\n",
    "Outliers: fraud amounts are often extreme so the model captures this.\n",
    "Multicollinearity: checked correlation matrix, but Logistic Regression handled it with regularization.\n",
    "\n",
    "2. Fraud detection model (description):\n",
    "used logisitic regression algorithm,\n",
    "Logistic Regression with  function -class_weight='balanced'.\n",
    "Chose logistic regression over random forest for interpretability and high fraud recall (~0.92).\n",
    "\n",
    "3. Variable selection (why included):\n",
    "Dropped IDs (nameOrig, nameDest).\n",
    "Encoded type → because fraud mostly happens in TRANSFER and CASH-OUT.\n",
    "deltas are basically used for showing the difference between monetary balances of old and new.\n",
    "Added balance deltas → because fraud leaves suspicious inconsistencies.\n",
    "\n",
    "4. Model performance (demonstration):\n",
    "Logistic Regression\n",
    "ROC-AUC: 0.98 (excellent separation).\n",
    "Recall for fraud: 0.92 (which means that it catches 92% of frauds).\n",
    "Balanced precision/recall trade-off.\n",
    "\n",
    "5. Key factors predicting fraud:\n",
    "Transaction type (fraud almost always = TRANSFER or CASH-OUT).\n",
    "Large transaction amounts.\n",
    "Balance inconsistencies (delta features).\n",
    "\n",
    "6. Do factors make sense?\n",
    "Yes → fraudsters try to empty accounts via TRANSFER + CASH-OUT.\n",
    "Merchants (M accounts) have missing balances — common fraud pattern.\n",
    "\n",
    "7. Prevention (infrastructure updates):\n",
    "Real-time monitoring of TRANSFER + CASH-OUT.\n",
    "Threshold rules for unusually large transactions.\n",
    "Balance-consistency checks.\n",
    "Multi-factor authentication for high-risk transfers.\n",
    "                           \n",
    "8. How to check if prevention works:\n",
    "Monitor fraud rate before vs after changes.\n",
    "Track false positives (are we blocking too many genuine customers?).\n",
    "Continuous retraining of model with new data.\n",
    "A/B testing fraud-prevention policies.\n",
    "\n",
    "CONCLUSION\n",
    "We compared Logistic Regression and Random Forest. While Random Forest gave a slightly higher ROC-AUC, Logistic Regression achieved significantly higher recall for fraud detection (92% vs 74%). Since catching fraud cases is the top business priority, we recommend Logistic Regression as the preferred model."
   ]
  },
  {
   "cell_type": "code",
   "execution_count": null,
   "id": "27171e69-b3ff-4d0f-85f8-d5f09e8d6a73",
   "metadata": {},
   "outputs": [],
   "source": []
  }
 ],
 "metadata": {
  "kernelspec": {
   "display_name": "Python 3 (ipykernel)",
   "language": "python",
   "name": "python3"
  },
  "language_info": {
   "codemirror_mode": {
    "name": "ipython",
    "version": 3
   },
   "file_extension": ".py",
   "mimetype": "text/x-python",
   "name": "python",
   "nbconvert_exporter": "python",
   "pygments_lexer": "ipython3",
   "version": "3.12.7"
  }
 },
 "nbformat": 4,
 "nbformat_minor": 5
}
